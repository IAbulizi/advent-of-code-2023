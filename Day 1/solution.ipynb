{
 "cells": [
  {
   "cell_type": "code",
   "execution_count": null,
   "metadata": {},
   "outputs": [],
   "source": [
    "import sys\n",
    "sys.path.append(\"../Scripts\")"
   ]
  },
  {
   "cell_type": "code",
   "execution_count": 15,
   "metadata": {},
   "outputs": [],
   "source": [
    "import utils\n",
    "import re\n",
    "import parse"
   ]
  },
  {
   "cell_type": "code",
   "execution_count": 9,
   "metadata": {},
   "outputs": [],
   "source": [
    "def line_to_calibration_value(string : str):\n",
    "    # split string into list of characters\n",
    "    string = list(string)\n",
    "    # remove all non-digits\n",
    "    string = [char for char in string if char.isdigit()]\n",
    "    # concatenate first and last digits\n",
    "    value = int(string[0] + string[-1])\n",
    "    return value\n",
    "\n",
    "def lines_to_calibration_value(lines : str):\n",
    "    return sum([line_to_calibration_value(line) for line in lines])"
   ]
  },
  {
   "cell_type": "markdown",
   "metadata": {},
   "source": [
    "Solution Part A"
   ]
  },
  {
   "cell_type": "code",
   "execution_count": 10,
   "metadata": {},
   "outputs": [
    {
     "name": "stdout",
     "output_type": "stream",
     "text": [
      "Read file, print first 10 lines:\n",
      "['1abc2', 'pqr3stu8vwx', 'a1b2c3d4e5f', 'treb7uchet']\n",
      "Part A works for test file, moving on to whole input...\n",
      "Answer: 55538\n"
     ]
    }
   ],
   "source": [
    "def compute_partA(filename : str, verbose : bool = False):\n",
    "    # read file\n",
    "    lines = utils.read_file(filename, verbose)\n",
    "    solution = lines_to_calibration_value(lines)\n",
    "    # compute solution\n",
    "    return solution\n",
    "\n",
    "def solve_partA():\n",
    "    result = compute_partA(\"test_input.txt\", True)\n",
    "    true_solution = 142\n",
    "    assert result == true_solution, f\"Part A faulty on test file... output = {result}\"\n",
    "    print(\"Part A works for test file, moving on to whole input...\")\n",
    "    result = compute_partA(\"input.txt\", False)\n",
    "    print(f\"Answer: {result}\")\n",
    "    return\n",
    "\n",
    "solve_partA()"
   ]
  },
  {
   "cell_type": "markdown",
   "metadata": {},
   "source": [
    "Solution Part B"
   ]
  },
  {
   "cell_type": "code",
   "execution_count": 49,
   "metadata": {},
   "outputs": [],
   "source": [
    "def word_to_number(a):\n",
    "    numbers = [\"one\", \"two\", \"three\", \"four\", \"five\", \"six\", \"seven\", \"eight\", \"nine\"]\n",
    "    for i, number in enumerate(numbers):\n",
    "        if a == number:\n",
    "            return i + 1\n",
    "    if a.isdigit():\n",
    "        return int(a)\n",
    "    raise ValueError(f\"{a} is not a number\")\n",
    "\n",
    "def line_to_calibration_value_partB(line : str, verbose : bool = False):\n",
    "    # find first and last finding\n",
    "    res_first = re.search(r'(one|two|three|four|five|six|seven|eight|nine|[1-9])', line)\n",
    "    res_last = re.search(r'(eno|owt|eerht|ruof|evif|xis|neves|thgie|enin|[1-9])', line[::-1])\n",
    "    # convert first and last finding to numbers\n",
    "    a, b = word_to_number(res_first.group(0)), word_to_number(res_last.group(0)[::-1])\n",
    "    # concatenate\n",
    "    res = int(str(a) + str(b))\n",
    "    if verbose:\n",
    "        print(f\"{line} -> {res}\")\n",
    "    return res\n",
    "\n",
    "def lines_to_result(lines : str, verbose : bool = False):\n",
    "    return sum([line_to_calibration_value_partB(line, verbose) for line in lines])"
   ]
  },
  {
   "cell_type": "code",
   "execution_count": 51,
   "metadata": {},
   "outputs": [
    {
     "name": "stdout",
     "output_type": "stream",
     "text": [
      "Read file, print first 10 lines:\n",
      "['two1nine', 'eightwothree', 'abcone2threexyz', 'xtwone3four', '4nineeightseven2', 'zoneight234', '7pqrstsixteen']\n",
      "two1nine -> 29\n",
      "eightwothree -> 83\n",
      "abcone2threexyz -> 13\n",
      "xtwone3four -> 24\n",
      "4nineeightseven2 -> 42\n",
      "zoneight234 -> 14\n",
      "7pqrstsixteen -> 76\n",
      "Part B works for test file, moving on to whole input...\n",
      "Answer: 54875\n"
     ]
    }
   ],
   "source": [
    "def compute_partB(filename : str, verbose : bool = False):\n",
    "    # read file\n",
    "    lines = utils.read_file(filename, verbose)\n",
    "    solution = lines_to_result(lines, verbose)\n",
    "    return solution\n",
    "\n",
    "def solve_partB():\n",
    "    result = compute_partB(\"test_input_2.txt\", True)\n",
    "    true_solution = 281\n",
    "    assert result == true_solution, f\"Part B faulty on test file... output = {result}\"\n",
    "    print(\"Part B works for test file, moving on to whole input...\")\n",
    "    result = compute_partB(\"input.txt\", False)\n",
    "    print(f\"Answer: {result}\")\n",
    "    return\n",
    "\n",
    "solve_partB()"
   ]
  }
 ],
 "metadata": {
  "kernelspec": {
   "display_name": "Python 3.11.0 ('.venv-aoc': venv)",
   "language": "python",
   "name": "python3"
  },
  "language_info": {
   "codemirror_mode": {
    "name": "ipython",
    "version": 3
   },
   "file_extension": ".py",
   "mimetype": "text/x-python",
   "name": "python",
   "nbconvert_exporter": "python",
   "pygments_lexer": "ipython3",
   "version": "3.9.13"
  },
  "orig_nbformat": 4,
  "vscode": {
   "interpreter": {
    "hash": "ef9b0263cc57ba0721637a3ca3550c3d5851fce86bac14c6061ac109ebcdb11c"
   }
  }
 },
 "nbformat": 4,
 "nbformat_minor": 2
}
